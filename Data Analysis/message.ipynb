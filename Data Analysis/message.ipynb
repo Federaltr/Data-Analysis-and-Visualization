{
 "cells": [
  {
   "cell_type": "code",
   "execution_count": 2,
   "metadata": {},
   "outputs": [],
   "source": [
    "import os\n",
    "from colorama import Fore\n",
    "import platform\n",
    "import requests\n",
    "import time\n"
   ]
  },
  {
   "cell_type": "code",
   "execution_count": 3,
   "metadata": {},
   "outputs": [
    {
     "ename": "IndentationError",
     "evalue": "expected an indented block after function definition on line 1 (147013416.py, line 2)",
     "output_type": "error",
     "traceback": [
      "\u001b[1;36m  Input \u001b[1;32mIn [3]\u001b[1;36m\u001b[0m\n\u001b[1;33m    resp = requests.post('https://textbelt.com/text', {\u001b[0m\n\u001b[1;37m    ^\u001b[0m\n\u001b[1;31mIndentationError\u001b[0m\u001b[1;31m:\u001b[0m expected an indented block after function definition on line 1\n"
     ]
    }
   ],
   "source": [
    "def perday():\n",
    "    resp = requests.post('https://textbelt.com/text', {\n",
    "    'phone': phone_num,\n",
    "    'message': msg,\n",
    "    'key': 'textbelt',\n",
    "    })\n",
    "    print(resp.json())\n",
    "def unlimited():\n",
    "    resp = requests.post('https://textbelt.com/text', {\n",
    "    'phone': phone_num,\n",
    "    'message': msg,\n",
    "    'key': 'e1518e2265f09dc16a7b84aa320e418f4309b0acdw3sSg6DxDJOiPU6qbC8NsRaH',\n",
    "    })\n",
    "    print(resp.json())\n",
    "    if platform.system()==\"Windows\":\n",
    "        os.system(\"cls\")\n",
    "    else:\n",
    "        os.system(\"clear\")\n",
    "    print(Fore.GREEN+\"\"\"\n",
    "    1) One/SMS/PerDay\n",
    "    2) Unlimited/SMS\n",
    "    \"\"\")\n",
    "    option = int(input())\n",
    "if option==1:\n",
    "if platform.system()==\"Windows\":\n",
    "os.system(\"cls\")\n",
    "else:\n",
    "os.system(\"clear\")\n",
    "phone_num=input(\"Enter your phone number : \")\n",
    "msg = input(\"Enter your msg =  \")\n",
    "perday()\n",
    "elif option==2:\n",
    "if platform.system()==\"Windows\":\n",
    "os.system(\"cls\")\n",
    "else:\n",
    "os.system(\"clear\")\n",
    "phone_num=input(\"Enter your phone number : \")\n",
    "msg = input(\"Enter your msg =  \")\n",
    "unlimited()\n",
    "time.sleep(6)"
   ]
  }
 ],
 "metadata": {
  "interpreter": {
   "hash": "7f2268373c59de7c4cf8b7b218e988e8031541b7ae73002a3c029a60d52fa35d"
  },
  "kernelspec": {
   "display_name": "Python 3.10.2 64-bit",
   "language": "python",
   "name": "python3"
  },
  "language_info": {
   "codemirror_mode": {
    "name": "ipython",
    "version": 3
   },
   "file_extension": ".py",
   "mimetype": "text/x-python",
   "name": "python",
   "nbconvert_exporter": "python",
   "pygments_lexer": "ipython3",
   "version": "3.10.2"
  },
  "orig_nbformat": 4
 },
 "nbformat": 4,
 "nbformat_minor": 2
}
