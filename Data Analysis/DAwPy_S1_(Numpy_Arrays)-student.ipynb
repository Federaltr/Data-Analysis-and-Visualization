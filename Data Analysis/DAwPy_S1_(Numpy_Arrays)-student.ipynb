{
 "cells": [
  {
   "cell_type": "markdown",
   "metadata": {
    "id": "ggyGa7EarbsC"
   },
   "source": [
    "___\n",
    "\n",
    "<p style=\"text-align: center;\"><img src=\"https://docs.google.com/uc?id=1lY0Uj5R04yMY3-ZppPWxqCr5pvBLYPnV\" class=\"img-fluid\" \n",
    "alt=\"CLRSWY\"></p>\n",
    "\n",
    "## <p style=\"background-color:#FDFEFE; font-family:newtimeroman; color:#9d4f8c; font-size:120%; text-align:center; border-radius:10px 10px;\">Way to Reinvent Yourself</p>"
   ]
  },
  {
   "cell_type": "markdown",
   "metadata": {},
   "source": [
    "<img src=https://i.ibb.co/8NdjfdZ/Num-Py-logo.png width=\"700\" height=\"200\">\n",
    "\n",
    "## <p style=\"background-color:#FDFEFE; font-family:newtimeroman; color:#060108; font-size:200%; text-align:center; border-radius:10px 10px;\">Data Analysis with Python</p>\n",
    "\n",
    "## <p style=\"background-color:#FDFEFE; font-family:newtimeroman; color:#060108; font-size:150%; text-align:center; border-radius:10px 10px;\">Session - 01</p>\n",
    "\n",
    "## <p style=\"background-color:#FDFEFE; font-family:newtimeroman; color:#4d77cf; font-size:150%; text-align:center; border-radius:10px 10px;\">Numpy Arrays (Part-01)</p>"
   ]
  },
  {
   "cell_type": "markdown",
   "metadata": {},
   "source": [
    "<a id=\"toc\"></a>\n",
    "\n",
    "## <p style=\"background-color:#9d4f8c; font-family:newtimeroman; color:#FFF9ED; font-size:175%; text-align:center; border-radius:10px 10px;\">Content</p>\n",
    "\n",
    "* [WHAT IS NUMPY? & WHY DO WE NEED IT?](#00)\n",
    "* [INSTALLATION INSTRUCTIONS](#0)\n",
    "* [IMPORTING LIBRARIES NEEDED IN THIS NOTEBOOK](#1)\n",
    "* [NUMPY ARRAYS](#2)\n",
    "    * [Why NumPy?](#2.1)\n",
    "* [CREATING NUMPY ARRAYS](#3)\n",
    "    * [From a Python List](#3.1)\n",
    "* [BUILT-IN METHODS](#4)\n",
    "    * [\"arange\"](#4.1)\n",
    "    * [\"linspace\"](#4.2)\n",
    "    * [\"zeros\", \"ones\" & \"full\"](#4.3)\n",
    "    * [\"eye\"](#4.4)\n",
    "    * [Random Built-in Methods](#4.5)\n",
    "        * [\"rand\"](#4.5.1)\n",
    "        * [\"randn\"](#4.5.2)\n",
    "        * [\"randint\"](#4.5.3)    \n",
    "* [ARRAY ATTRIBUTES & METHODS](#5) \n",
    "    * [\"reshape\"](#5.1)\n",
    "    * [\"max\", \"min\", \"argmax\" & \"argmin\"](#5.2)\n",
    "* [SOME OTHER ATTRIBUTES](#6)        \n",
    "    * [\"shape\"](#6.1)\n",
    "    * [\"dtype\"](#6.2)\n",
    "    * [\"ndim\"](#6.3)\n",
    "    * [\"size\"](#6.4)\n",
    "* [THE END OF THE SESSION-01 (PART-01)](#7)"
   ]
  },
  {
   "cell_type": "markdown",
   "metadata": {
    "id": "TvkNWM9vrbsH"
   },
   "source": [
    "## <p style=\"background-color:#9d4f8c; font-family:newtimeroman; color:#FFF9ED; font-size:175%; text-align:center; border-radius:10px 10px;\">What is Numpy? & Why Do We Need It?</p>\n",
    "\n",
    "<a id=\"00\"></a>\n",
    "<a href=\"#toc\" class=\"btn btn-primary btn-sm\" role=\"button\" aria-pressed=\"true\" \n",
    "style=\"color:blue; background-color:#dfa8e4\" data-toggle=\"popover\">Content</a>\n",
    "\n",
    "\n",
    "## What is NumPy? \n",
    "\n",
    "NumPy (or Numpy) is a Linear Algebra Library for Python, the reason it is so important for Data Science with Python is that almost all of the libraries in the PyData Ecosystem rely on NumPy as one of their main building blocks.\n",
    "\n",
    "NumPy or Numeric Python is a package for computation on **homogenous n-dimensional arrays**. In numpy dimensions are called as axes.\n",
    "\n",
    "**Why do we need NumPy?**\n",
    "\n",
    "A question arises that why do we need NumPy when python lists are already there. The answer to it is we cannot perform operations on all the elements of two list directly. For example, we cannot multiply two lists directly we will have to do it element-wise. This is where the role of NumPy comes into play.\n",
    "\n",
    "Numpy is also incredibly fast, as it has bindings to C libraries. For more info on why you would want to use Arrays instead of lists, check out this great [StackOverflow post](http://stackoverflow.com/questions/993984/why-numpy-instead-of-python-lists).\n",
    "\n",
    "### Numpy is/has;\n",
    "\n",
    "**POWERFUL N-DIMENSIONAL ARRAYS**<br>\n",
    "Fast and versatile, the NumPy vectorization, indexing, and broadcasting concepts are the de-facto standards of array computing today.<br>\n",
    "**NUMERICAL COMPUTING TOOLS**<br>\n",
    "NumPy offers comprehensive mathematical functions, random number generators, linear algebra routines, Fourier transforms, and more.<br>\n",
    "**INTEROPERABLE**<br>\n",
    "NumPy supports a wide range of hardware and computing platforms, and plays well with distributed, GPU, and sparse array libraries.<br>\n",
    "**PERFORMANT**<br>\n",
    "The core of NumPy is well-optimized C code. Enjoy the flexibility of Python with the speed of compiled code.<br>\n",
    "**EASY TO USE**<br>\n",
    "NumPy’s high level syntax makes it accessible and productive for programmers from any background or experience level.<br>\n",
    "**OPEN SOURCE**<br>\n",
    "Distributed under a liberal BSD license, NumPy is developed and maintained publicly on GitHub by a vibrant, responsive, and diverse community. [Source](https://numpy.org/)<br>\n",
    "\n",
    "\n",
    "## Why do we need it?\n",
    "To make a logical and mathematical computation on array and matrices, it is needed. It performs these operations way too efficiently and faster than python lists.\n",
    "\n",
    "## Advantages of NumPy\n",
    "1. Numpy arrays take less space.\n",
    "The core of Numpy is its arrays. One of the main advantages of using Numpy arrays is that they take less memory space and provide better runtime speed when compared with similar data structures in python(lists and tuples).NumPy’s arrays are smaller in size than Python lists. A python list could take upto 20MB size while an array could take 4MB. Arrays are also easy to access for reading and writing.\n",
    "2. The speed performance is also great. It performs faster computations than python lists.\n",
    "3. Numpy support some specific scientific functions such as linear algebra. They help us in solving linear equations.\n",
    "4. Numpy support vectorized operations, like elementwise addition and multiplication, computing Kronecker product, etc. Python lists fail to support these features.\n",
    "5. It is a very good substitute for MATLAB, OCTAVE, etc as it provides similar functionalities and supports with faster development and less mental overhead(as python is easy to write and comprehend)\n",
    "6. As it is open-source, it doesn’t cost anything, and it uses a very popular programming language, Python, which has high-quality libraries for almost every task. Also, it is easy to connect the existing C code to the Python interpreter.\n",
    "7. NumPy is very good for data analysis.\n",
    "\n",
    "## Disadvantages of NumPy\n",
    "\n",
    "1. Using “nan” in Numpy: “Nan” stands for “not a number”. It was designed to address the problem of missing values. NumPy itself supports “nan” but lack of cross-platform support within Python makes it difficult for the user. That’s why we may face problems when comparing values within the Python interpreter.\n",
    "2. Require a contiguous allocation of memory: Insertion and deletion operations become costly as data is stored in contiguous memory locations as shifting it requires shifting.\n",
    "\n",
    "![Capture1.PNG](https://i.ibb.co/FY1q7Xh/uses-of-numpy.png)\n",
    "\n",
    "[Numpy Source 01](https://www.educba.com/what-is-numpy-in-python/),\n",
    "[Numpy Source 02](https://www.javatpoint.com/numpy-tutorial),\n",
    "[Numpy Source 03](https://techvidvan.com/tutorials/python-numpy-tutorial/),\n",
    "[Numpy Source 04](https://medium.com/analytics-vidhya/introduction-to-numpy-16a6efaffdd7),\n",
    "[Numpy Source 05](https://data-flair.training/blogs/python-numpy-tutorial/),\n",
    "[Numpy Source 06](https://www.quora.com/In-Python-what-is-NumPy-How-is-it-used),\n",
    "[Numpy Source 07](https://fgnt.github.io/python_crashkurs_doc/include/numpy.html),\n",
    "[Numpy Source 08](https://towardsdatascience.com/a-hitchhiker-guide-to-python-numpy-arrays-9358de570121),\n",
    "[Numpy Source 09](https://scipy-lectures.org/intro/numpy/array_object.html),\n",
    "[Numpy Source 09](https://www.educba.com/introduction-to-numpy/)\n",
    "\n",
    "We will only learn the basics of NumPy, to get started we need to install it!"
   ]
  },
  {
   "cell_type": "markdown",
   "metadata": {
    "id": "-Dt4FJXLrbsH"
   },
   "source": [
    "## <p style=\"background-color:#9d4f8c; font-family:newtimeroman; color:#FFF9ED; font-size:175%; text-align:center; border-radius:10px 10px;\">Installation Instructions</p>\n",
    "\n",
    "<a id=\"0\"></a>\n",
    "<a href=\"#toc\" class=\"btn btn-primary btn-sm\" role=\"button\" aria-pressed=\"true\" \n",
    "style=\"color:blue; background-color:#dfa8e4\" data-toggle=\"popover\">Content</a>\n",
    "\n",
    "**It is highly recommended you install Python using the Anaconda distribution to make sure all underlying dependencies (such as Linear Algebra libraries) all sync up with the use of a conda install. If you have Anaconda, install NumPy by going to your terminal or command prompt and typing:**\n",
    "    \n",
    "    conda install numpy\n",
    "    \n",
    "**If you do not have Anaconda and can not install it, please refer to [Numpy's official documentation on various installation instructions.](http://docs.scipy.org/doc/numpy-1.10.1/user/install.html)**"
   ]
  },
  {
   "cell_type": "markdown",
   "metadata": {
    "id": "Xluu_UGvrbsI"
   },
   "source": [
    "## <p style=\"background-color:#9d4f8c; font-family:newtimeroman; color:#FFF9ED; font-size:150%; text-align:center; border-radius:10px 10px;\">Importing Libraries Needed in This Notebook</p>\n",
    "\n",
    "<a id=\"1\"></a>\n",
    "<a href=\"#toc\" class=\"btn btn-primary btn-sm\" role=\"button\" aria-pressed=\"true\" \n",
    "style=\"color:blue; background-color:#dfa8e4\" data-toggle=\"popover\">Content</a>\n",
    "\n",
    "Once you've installed NumPy you can import it as a library:"
   ]
  },
  {
   "cell_type": "code",
   "execution_count": 1,
   "metadata": {},
   "outputs": [],
   "source": [
    "#pip install numpy"
   ]
  },
  {
   "cell_type": "code",
   "execution_count": 3,
   "metadata": {},
   "outputs": [],
   "source": [
    "import numpy as np"
   ]
  },
  {
   "cell_type": "markdown",
   "metadata": {
    "id": "q7TXNmcLrbsJ"
   },
   "source": [
    "## <p style=\"background-color:#9d4f8c; font-family:newtimeroman; color:#FFF9ED; font-size:175%; text-align:center; border-radius:10px 10px;\">Numpy Arrays</p>\n",
    "\n",
    "<a id=\"2\"></a>\n",
    "<a href=\"#toc\" class=\"btn btn-primary btn-sm\" role=\"button\" aria-pressed=\"true\" \n",
    "style=\"color:blue; background-color:#dfa8e4\" data-toggle=\"popover\">Content</a>\n",
    "\n",
    "Numpy has many built-in functions and capabilities. We won't cover them all but instead we will focus on some of the most important aspects of Numpy: vectors,arrays,matrices, and number generation. Let's start by discussing arrays.\n",
    "\n",
    "NumPy arrays are the main way we will use Numpy throughout the course. Numpy arrays essentially come in two flavors: vectors and matrices. Vectors are strictly 1-d arrays and matrices are 2-d (but you should note a matrix can still have only one row or one column).\n",
    "\n",
    "![Capture2.PNG](https://i.ibb.co/bP4S9Tq/numpy-ndarray.png)"
   ]
  },
  {
   "cell_type": "markdown",
   "metadata": {},
   "source": [
    "### <p style=\"background-color:#9d4f8c; font-family:newtimeroman; color:#FFF9ED; font-size:150%; text-align:LEFT; border-radius:10px 10px;\">Why NumPy?</p>\n",
    "\n",
    "<a id=\"2.1\"></a>\n",
    "<a href=\"#toc\" class=\"btn btn-primary btn-sm\" role=\"button\" aria-pressed=\"true\" \n",
    "style=\"color:blue; background-color:#dfa8e4\" data-toggle=\"popover\">Content</a>\n",
    "\n",
    "There are several important differences between NumPy arrays and the standard Python sequences:\n",
    "\n",
    "- NumPy arrays have a fixed size at creation, unlike Python lists (which can grow dynamically). Changing the size of an ndarray will create a new array and delete the original.\n",
    "\n",
    "- The elements in a NumPy array are all required to be of the same data type, and thus will be the same size in memory. The exception: one can have arrays of (Python, including NumPy) objects, thereby allowing for arrays of different sized elements.\n",
    "\n",
    "- NumPy arrays facilitate advanced mathematical and other types of operations on large numbers of data. Typically, such operations are executed more efficiently and with less code than is possible using Python’s built-in sequences.\n",
    "\n",
    "- A growing plethora of scientific and mathematical Python-based packages are using NumPy arrays; though these typically support Python-sequence input, they convert such input to NumPy arrays prior to processing, and they often output NumPy arrays. In other words, in order to efficiently use much (perhaps even most) of today’s scientific/mathematical Python-based software, just knowing how to use Python’s built-in sequence types is insufficient - one also needs to know how to use NumPy arrays.\n",
    "\n",
    "![Numpy_vs_Lists](https://i.ibb.co/Lr0zQ1p/Numpy-vs-Lists.png)\n",
    "\n",
    "[Numpy Array vs List Source 01](https://blog.finxter.com/what-are-advantages-of-numpy-over-regular-python-lists/),\n",
    "[Numpy Array vs List Source 02](https://numpy.org/doc/stable/user/whatisnumpy.html),\n",
    "[Numpy Array vs List Source 03](https://python.plainenglish.io/python-list-vs-numpy-array-whats-the-difference-7308cd4b52f6),\n",
    "[Numpy vs List Source 04](https://webcourses.ucf.edu/courses/1249560/pages/python-lists-vs-numpy-arrays-what-is-the-difference#:~:text=A%20numpy%20array%20is%20a,a%20tuple%20of%20nonnegative%20integers.&text=A%20list%20is%20the%20Python,contain%20elements%20of%20different%20types.),\n",
    "[Numpy Array vs List Source 05](https://dev.to/chanduthedev/python-list-vs-numpy-array-3pjp),\n",
    "[Numpy Array vs List Source 06](https://medium.com/analytics-vidhya/list-vs-numpy-comparision-35bf921588e9),\n",
    "[Numpy Array vs List Source 07](https://stackoverflow.com/questions/15944171/python-differences-between-lists-and-numpy-array-of-objects),\n",
    "[Numpy Array vs List Video Source 01](https://www.youtube.com/watch?v=mkbgEvUkSaM),\n",
    "[Numpy Array vs List Video Source 02](https://www.youtube.com/watch?v=JtW_xGNDEJ8) &\n",
    "[Numpy Array vs List Video Source 03](https://www.youtube.com/watch?v=C10KmAbCW6A)"
   ]
  },
  {
   "cell_type": "markdown",
   "metadata": {},
   "source": [
    "**Let's begin our introduction by exploring how to create NumPy arrays.**"
   ]
  },
  {
   "cell_type": "markdown",
   "metadata": {},
   "source": [
    "## <p style=\"background-color:#9d4f8c; font-family:newtimeroman; color:#FFF9ED; font-size:175%; text-align:center; border-radius:10px 10px;\">Creating Numpy Arrays</p>\n",
    "\n",
    "<a id=\"3\"></a>\n",
    "<a href=\"#toc\" class=\"btn btn-primary btn-sm\" role=\"button\" aria-pressed=\"true\" \n",
    "style=\"color:blue; background-color:#dfa8e4\" data-toggle=\"popover\">Content</a>\n",
    "\n",
    "An array is a collection of items stored at contiguous memory locations. The idea is to store multiple items of the same type together. This makes it easier to calculate the position of each element by simply adding an offset to a base value, i.e., the memory location of the first element of the array (generally denoted by the name of the array).<br>\n",
    "Array can be handled in Python by a module named array. They can be useful when we have to manipulate only a specific data type values. A user can treat lists as arrays. However, user cannot constraint the type of elements stored in a list. If you create arrays using the array module, all elements of the array must be of the same type.<br>\n",
    "Array in Python can be created by importing array module. **array(data_type, value_list)** is used to create an array with data type and value list specified in its arguments.<br>\n",
    "\n",
    "[Numpy Array Source 01](https://www.geeksforgeeks.org/python-arrays/),\n",
    "[Numpy Array Source 02](https://thispointer.com/python-numpy-create-a-ndarray-from-list-tuple-or-list-of-lists-using-numpy-array/),\n",
    "[Numpy Array Source 03](https://www.pluralsight.com/guides/different-ways-create-numpy-arrays),\n",
    "[Numpy Array Source 04](https://stackoverflow.com/questions/33983053/how-to-create-a-numpy-array-of-lists/33987165),\n",
    "[Numpy Array Source 05](https://towardsdatascience.com/the-ten-best-ways-to-create-numpy-arrays-8b1029a972a7),\n",
    "[Numpy Array Source 06](https://blog.finxter.com/how-to-convert-a-list-to-a-numpy-array/),\n",
    "[Numpy Array Video Source 01](https://youtu.be/MKOw9ATtVqE),\n",
    "[Numpy Array Video Source 02](https://youtu.be/RQ0x6OHym3k)"
   ]
  },
  {
   "cell_type": "markdown",
   "metadata": {},
   "source": [
    "### <p style=\"background-color:#9d4f8c; font-family:newtimeroman; color:#FFF9ED; font-size:150%; text-align:LEFT; border-radius:10px 10px;\">From a Python List</p>\n",
    "\n",
    "<a id=\"3.1\"></a>\n",
    "<a href=\"#toc\" class=\"btn btn-primary btn-sm\" role=\"button\" aria-pressed=\"true\" \n",
    "style=\"color:blue; background-color:#dfa8e4\" data-toggle=\"popover\">Content</a>\n",
    "\n",
    "We can create an array by directly converting a list or list of lists:"
   ]
  },
  {
   "cell_type": "code",
   "execution_count": 4,
   "metadata": {},
   "outputs": [
    {
     "data": {
      "text/plain": [
       "[1, 2, 3]"
      ]
     },
     "execution_count": 4,
     "metadata": {},
     "output_type": "execute_result"
    }
   ],
   "source": [
    "my_list = [1,2,3]\n",
    "my_list"
   ]
  },
  {
   "cell_type": "code",
   "execution_count": 5,
   "metadata": {},
   "outputs": [
    {
     "data": {
      "text/plain": [
       "array([1, 2, 3])"
      ]
     },
     "execution_count": 5,
     "metadata": {},
     "output_type": "execute_result"
    }
   ],
   "source": [
    "my_array = np.array(my_list)\n",
    "my_array"
   ]
  },
  {
   "cell_type": "code",
   "execution_count": 6,
   "metadata": {},
   "outputs": [
    {
     "data": {
      "text/plain": [
       "[[[1, 2, 3, 4], [1, 2, 3, 4], [5, 6, 7, 8]],\n",
       " [[1, 2, 3, 4], [1, 2, 3, 4], [5, 6, 7, 8]]]"
      ]
     },
     "execution_count": 6,
     "metadata": {},
     "output_type": "execute_result"
    }
   ],
   "source": [
    "my_list = [[[1,2,3,4],[1,2,3,4],[5,6,7,8]],[[1,2,3,4],[1,2,3,4],[5,6,7,8]]]\n",
    "my_list"
   ]
  },
  {
   "cell_type": "code",
   "execution_count": 7,
   "metadata": {},
   "outputs": [
    {
     "data": {
      "text/plain": [
       "array([[[1, 2, 3, 4],\n",
       "        [1, 2, 3, 4],\n",
       "        [5, 6, 7, 8]],\n",
       "\n",
       "       [[1, 2, 3, 4],\n",
       "        [1, 2, 3, 4],\n",
       "        [5, 6, 7, 8]]])"
      ]
     },
     "execution_count": 7,
     "metadata": {},
     "output_type": "execute_result"
    }
   ],
   "source": [
    "my_array = np.array(my_list)\n",
    "my_array"
   ]
  },
  {
   "cell_type": "markdown",
   "metadata": {
    "id": "72Rp36UMrbsP"
   },
   "source": [
    "## <p style=\"background-color:#9d4f8c; font-family:newtimeroman; color:#FFF9ED; font-size:175%; text-align:center; border-radius:10px 10px;\">Built-in Methods</p>\n",
    "\n",
    "<a id=\"4\"></a>\n",
    "<a href=\"#toc\" class=\"btn btn-primary btn-sm\" role=\"button\" aria-pressed=\"true\" \n",
    "style=\"color:blue; background-color:#dfa8e4\" data-toggle=\"popover\">Content</a>\n",
    "\n",
    "**There are lots of built-in ways to generate Arrays. Let us examine the most important ones:**"
   ]
  },
  {
   "cell_type": "markdown",
   "metadata": {
    "id": "Q30_yKKFrbsP"
   },
   "source": [
    "### <p style=\"background-color:#9d4f8c; font-family:newtimeroman; color:#FFF9ED; font-size:150%; text-align:LEFT; border-radius:10px 10px;\">\"arange\"</p>\n",
    "\n",
    "<a id=\"4.1\"></a>\n",
    "<a href=\"#toc\" class=\"btn btn-primary btn-sm\" role=\"button\" aria-pressed=\"true\" \n",
    "style=\"color:blue; background-color:#dfa8e4\" data-toggle=\"popover\">Content</a>\n",
    "\n",
    "Return evenly spaced values within a given interval.\n",
    "\n",
    "arange([start,] stop[, step,], dtype=None)"
   ]
  },
  {
   "cell_type": "code",
   "execution_count": 8,
   "metadata": {},
   "outputs": [
    {
     "data": {
      "text/plain": [
       "array([0, 1, 2, 3, 4, 5, 6, 7, 8, 9])"
      ]
     },
     "execution_count": 8,
     "metadata": {},
     "output_type": "execute_result"
    }
   ],
   "source": [
    "np.arange(10)"
   ]
  },
  {
   "cell_type": "code",
   "execution_count": 9,
   "metadata": {},
   "outputs": [
    {
     "data": {
      "text/plain": [
       "array([4, 5, 6, 7, 8, 9])"
      ]
     },
     "execution_count": 9,
     "metadata": {},
     "output_type": "execute_result"
    }
   ],
   "source": [
    "np.arange(4, 10)"
   ]
  },
  {
   "cell_type": "code",
   "execution_count": 10,
   "metadata": {},
   "outputs": [
    {
     "data": {
      "text/plain": [
       "array([0, 2, 4, 6, 8])"
      ]
     },
     "execution_count": 10,
     "metadata": {},
     "output_type": "execute_result"
    }
   ],
   "source": [
    "np.arange(0,10,2)"
   ]
  },
  {
   "cell_type": "code",
   "execution_count": 11,
   "metadata": {},
   "outputs": [
    {
     "data": {
      "text/plain": [
       "array([ 0,  4,  8, 12, 16, 20, 24, 28, 32, 36, 40])"
      ]
     },
     "execution_count": 11,
     "metadata": {},
     "output_type": "execute_result"
    }
   ],
   "source": [
    "np.arange(0,41,4)"
   ]
  },
  {
   "cell_type": "markdown",
   "metadata": {
    "id": "vRkjTI0nrbsS"
   },
   "source": [
    "### <p style=\"background-color:#9d4f8c; font-family:newtimeroman; color:#FFF9ED; font-size:150%; text-align:LEFT; border-radius:10px 10px;\">\"linspace\"</p>\n",
    "\n",
    "<a id=\"4.2\"></a>\n",
    "<a href=\"#toc\" class=\"btn btn-primary btn-sm\" role=\"button\" aria-pressed=\"true\" \n",
    "style=\"color:blue; background-color:#dfa8e4\" data-toggle=\"popover\">Content</a>\n",
    "Return evenly spaced numbers over a specified interval.\n",
    "\n",
    "np.linspace(start, stop, num=50)"
   ]
  },
  {
   "cell_type": "code",
   "execution_count": 14,
   "metadata": {},
   "outputs": [
    {
     "data": {
      "text/plain": [
       "array([ 0.,  5., 10.])"
      ]
     },
     "execution_count": 14,
     "metadata": {},
     "output_type": "execute_result"
    }
   ],
   "source": [
    "np.linspace(0,10,3)  # lineer space"
   ]
  },
  {
   "cell_type": "code",
   "execution_count": 13,
   "metadata": {},
   "outputs": [
    {
     "data": {
      "text/plain": [
       "array([ 0,  5, 10])"
      ]
     },
     "execution_count": 13,
     "metadata": {},
     "output_type": "execute_result"
    }
   ],
   "source": [
    "np.arange(0,11,5)"
   ]
  },
  {
   "cell_type": "code",
   "execution_count": 15,
   "metadata": {},
   "outputs": [
    {
     "data": {
      "text/plain": [
       "array([ 0.        ,  0.20408163,  0.40816327,  0.6122449 ,  0.81632653,\n",
       "        1.02040816,  1.2244898 ,  1.42857143,  1.63265306,  1.83673469,\n",
       "        2.04081633,  2.24489796,  2.44897959,  2.65306122,  2.85714286,\n",
       "        3.06122449,  3.26530612,  3.46938776,  3.67346939,  3.87755102,\n",
       "        4.08163265,  4.28571429,  4.48979592,  4.69387755,  4.89795918,\n",
       "        5.10204082,  5.30612245,  5.51020408,  5.71428571,  5.91836735,\n",
       "        6.12244898,  6.32653061,  6.53061224,  6.73469388,  6.93877551,\n",
       "        7.14285714,  7.34693878,  7.55102041,  7.75510204,  7.95918367,\n",
       "        8.16326531,  8.36734694,  8.57142857,  8.7755102 ,  8.97959184,\n",
       "        9.18367347,  9.3877551 ,  9.59183673,  9.79591837, 10.        ])"
      ]
     },
     "execution_count": 15,
     "metadata": {},
     "output_type": "execute_result"
    }
   ],
   "source": [
    "np.linspace(0,10,50)"
   ]
  },
  {
   "cell_type": "code",
   "execution_count": 16,
   "metadata": {},
   "outputs": [
    {
     "data": {
      "text/plain": [
       "array([0])"
      ]
     },
     "execution_count": 16,
     "metadata": {},
     "output_type": "execute_result"
    }
   ],
   "source": [
    "np.arange(0,10,50)"
   ]
  },
  {
   "cell_type": "code",
   "execution_count": 17,
   "metadata": {},
   "outputs": [
    {
     "data": {
      "text/plain": [
       "array([ 0.        ,  0.20408163,  0.40816327,  0.6122449 ,  0.81632653,\n",
       "        1.02040816,  1.2244898 ,  1.42857143,  1.63265306,  1.83673469,\n",
       "        2.04081633,  2.24489796,  2.44897959,  2.65306122,  2.85714286,\n",
       "        3.06122449,  3.26530612,  3.46938776,  3.67346939,  3.87755102,\n",
       "        4.08163265,  4.28571429,  4.48979592,  4.69387755,  4.89795918,\n",
       "        5.10204082,  5.30612245,  5.51020408,  5.71428571,  5.91836735,\n",
       "        6.12244898,  6.32653061,  6.53061224,  6.73469388,  6.93877551,\n",
       "        7.14285714,  7.34693878,  7.55102041,  7.75510204,  7.95918367,\n",
       "        8.16326531,  8.36734694,  8.57142857,  8.7755102 ,  8.97959184,\n",
       "        9.18367347,  9.3877551 ,  9.59183673,  9.79591837, 10.        ])"
      ]
     },
     "execution_count": 17,
     "metadata": {},
     "output_type": "execute_result"
    }
   ],
   "source": [
    "np.linspace(0,10,)"
   ]
  },
  {
   "cell_type": "code",
   "execution_count": 18,
   "metadata": {},
   "outputs": [
    {
     "data": {
      "text/plain": [
       "array([ 0,  0,  0,  0,  0,  1,  1,  1,  1,  1,  2,  2,  2,  2,  2,  3,  3,\n",
       "        3,  3,  3,  4,  4,  4,  4,  4,  5,  5,  5,  5,  5,  6,  6,  6,  6,\n",
       "        6,  7,  7,  7,  7,  7,  8,  8,  8,  8,  8,  9,  9,  9,  9, 10])"
      ]
     },
     "execution_count": 18,
     "metadata": {},
     "output_type": "execute_result"
    }
   ],
   "source": [
    "np.linspace(0,10,50, dtype=\"int\")"
   ]
  },
  {
   "cell_type": "code",
   "execution_count": 19,
   "metadata": {},
   "outputs": [
    {
     "data": {
      "text/plain": [
       "array([[ 0. ,  2.5,  5. ,  7.5, 10. ],\n",
       "       [ 0. ,  5. , 10. , 15. , 20. ]])"
      ]
     },
     "execution_count": 19,
     "metadata": {},
     "output_type": "execute_result"
    }
   ],
   "source": [
    "np.linspace(0, [10, 20], 5, axis = 1)"
   ]
  },
  {
   "cell_type": "code",
   "execution_count": 20,
   "metadata": {},
   "outputs": [
    {
     "data": {
      "text/plain": [
       "array([[ 0. ,  0. ],\n",
       "       [ 2.5,  5. ],\n",
       "       [ 5. , 10. ],\n",
       "       [ 7.5, 15. ],\n",
       "       [10. , 20. ]])"
      ]
     },
     "execution_count": 20,
     "metadata": {},
     "output_type": "execute_result"
    }
   ],
   "source": [
    "np.linspace(0, [10, 20], 5, axis = 0)"
   ]
  },
  {
   "cell_type": "code",
   "execution_count": 23,
   "metadata": {},
   "outputs": [
    {
     "data": {
      "text/plain": [
       "array([[ 0. , 10. ],\n",
       "       [ 2.5, 12.5],\n",
       "       [ 5. , 15. ],\n",
       "       [ 7.5, 17.5],\n",
       "       [10. , 20. ]])"
      ]
     },
     "execution_count": 23,
     "metadata": {},
     "output_type": "execute_result"
    }
   ],
   "source": [
    "np.linspace([0, 10], [10, 20], 5, axis = 0)"
   ]
  },
  {
   "cell_type": "code",
   "execution_count": 24,
   "metadata": {},
   "outputs": [
    {
     "data": {
      "text/plain": [
       "array([[ 0. ,  2.5,  5. ,  7.5, 10. ],\n",
       "       [10. , 12.5, 15. , 17.5, 20. ]])"
      ]
     },
     "execution_count": 24,
     "metadata": {},
     "output_type": "execute_result"
    }
   ],
   "source": [
    "np.linspace([0, 10], [10, 20], 5, axis = 1)"
   ]
  },
  {
   "cell_type": "markdown",
   "metadata": {
    "id": "WhL8BRQwrbsQ"
   },
   "source": [
    "### <p style=\"background-color:#9d4f8c; font-family:newtimeroman; color:#FFF9ED; font-size:150%; text-align:LEFT; border-radius:10px 10px;\">\"zeros\", \"ones\" & \"full</p>\n",
    "\n",
    "<a id=\"4.3\"></a>\n",
    "<a href=\"#toc\" class=\"btn btn-primary btn-sm\" role=\"button\" aria-pressed=\"true\" \n",
    "style=\"color:blue; background-color:#dfa8e4\" data-toggle=\"popover\">Content</a>\n",
    "\n",
    "Generate arrays of zeros or ones\n",
    "\n",
    "np.zeros(shape, dtype=float, order='C')\n",
    "\n",
    "np.ones(shape, dtype=None, order='C')\n",
    "\n",
    "np.full(shape, fill_value, dtype=None, order='C')"
   ]
  },
  {
   "cell_type": "code",
   "execution_count": null,
   "metadata": {},
   "outputs": [],
   "source": [
    "#burayı kaçırdım tekrar bak"
   ]
  },
  {
   "cell_type": "code",
   "execution_count": null,
   "metadata": {},
   "outputs": [],
   "source": []
  },
  {
   "cell_type": "code",
   "execution_count": null,
   "metadata": {},
   "outputs": [],
   "source": []
  },
  {
   "cell_type": "code",
   "execution_count": null,
   "metadata": {},
   "outputs": [],
   "source": []
  },
  {
   "cell_type": "code",
   "execution_count": null,
   "metadata": {},
   "outputs": [],
   "source": []
  },
  {
   "cell_type": "code",
   "execution_count": null,
   "metadata": {},
   "outputs": [],
   "source": []
  },
  {
   "cell_type": "code",
   "execution_count": 33,
   "metadata": {},
   "outputs": [
    {
     "data": {
      "text/plain": [
       "array([[[255,   0,   0],\n",
       "        [255,   0,   0],\n",
       "        [255,   0,   0],\n",
       "        [255,   0,   0]],\n",
       "\n",
       "       [[255,   0,   0],\n",
       "        [255,   0,   0],\n",
       "        [255,   0,   0],\n",
       "        [255,   0,   0]]])"
      ]
     },
     "execution_count": 33,
     "metadata": {},
     "output_type": "execute_result"
    }
   ],
   "source": [
    "import matplotlib.pyplot as plt\n",
    "%matplotlib inline\n",
    "\n",
    "a = np.full((2, 4, 3), 255) # [depth, height, width]\n",
    "a[:,:,0] = 255 # red\n",
    "a[:,:,1] = 0 # green\n",
    "a[:,:,2] = 0 # blue\n",
    "a"
   ]
  },
  {
   "cell_type": "code",
   "execution_count": null,
   "metadata": {},
   "outputs": [],
   "source": []
  },
  {
   "cell_type": "code",
   "execution_count": null,
   "metadata": {},
   "outputs": [],
   "source": []
  },
  {
   "cell_type": "code",
   "execution_count": null,
   "metadata": {},
   "outputs": [],
   "source": []
  },
  {
   "cell_type": "code",
   "execution_count": null,
   "metadata": {},
   "outputs": [],
   "source": []
  },
  {
   "cell_type": "code",
   "execution_count": null,
   "metadata": {},
   "outputs": [],
   "source": []
  },
  {
   "cell_type": "code",
   "execution_count": null,
   "metadata": {},
   "outputs": [],
   "source": []
  },
  {
   "cell_type": "code",
   "execution_count": null,
   "metadata": {},
   "outputs": [],
   "source": []
  },
  {
   "cell_type": "code",
   "execution_count": null,
   "metadata": {},
   "outputs": [],
   "source": []
  },
  {
   "cell_type": "markdown",
   "metadata": {
    "id": "jBwloQS4rbsT"
   },
   "source": [
    "### <p style=\"background-color:#9d4f8c; font-family:newtimeroman; color:#FFF9ED; font-size:150%; text-align:LEFT; border-radius:10px 10px;\">\"eye\"</p>\n",
    "\n",
    "<a id=\"4.4\"></a>\n",
    "<a href=\"#toc\" class=\"btn btn-primary btn-sm\" role=\"button\" aria-pressed=\"true\" \n",
    "style=\"color:blue; background-color:#dfa8e4\" data-toggle=\"popover\">Content</a>\n",
    "\n",
    "Creates an [identity matrix](https://www.mathbootcamps.com/the-identity-matrix-and-its-properties/)\n",
    "\n",
    "Return a 2-D array with ones on the diagonal and zeros elsewhere."
   ]
  },
  {
   "cell_type": "code",
   "execution_count": 25,
   "metadata": {},
   "outputs": [
    {
     "data": {
      "text/plain": [
       "array([[1., 0., 0., 0.],\n",
       "       [0., 1., 0., 0.],\n",
       "       [0., 0., 1., 0.],\n",
       "       [0., 0., 0., 1.]])"
      ]
     },
     "execution_count": 25,
     "metadata": {},
     "output_type": "execute_result"
    }
   ],
   "source": [
    "np.eye(4)"
   ]
  },
  {
   "cell_type": "code",
   "execution_count": 26,
   "metadata": {},
   "outputs": [
    {
     "data": {
      "text/plain": [
       "array([[ True, False, False, False],\n",
       "       [False,  True, False, False],\n",
       "       [False, False,  True, False],\n",
       "       [False, False, False,  True]])"
      ]
     },
     "execution_count": 26,
     "metadata": {},
     "output_type": "execute_result"
    }
   ],
   "source": [
    "np.eye(4, dtype = bool)"
   ]
  },
  {
   "cell_type": "markdown",
   "metadata": {
    "id": "5QNCN-UcrbsT"
   },
   "source": [
    "### <p style=\"background-color:#9d4f8c; font-family:newtimeroman; color:#FFF9ED; font-size:150%; text-align:LEFT; border-radius:10px 10px;\">Random Built-in Methods</p>\n",
    "\n",
    "<a id=\"4.5\"></a>\n",
    "<a href=\"#toc\" class=\"btn btn-primary btn-sm\" role=\"button\" aria-pressed=\"true\" \n",
    "style=\"color:blue; background-color:#dfa8e4\" data-toggle=\"popover\">Content</a>\n",
    "\n",
    "Numpy also has lots of ways to create random number arrays:\n"
   ]
  },
  {
   "cell_type": "markdown",
   "metadata": {},
   "source": [
    "### <p style=\"background-color:#9d4f8c; font-family:newtimeroman; color:#FFF9ED; font-size:150%; text-align:LEFT; border-radius:10px 10px;\">\"rand\"</p>\n",
    "\n",
    "<a id=\"4.5.1\"></a>\n",
    "<a href=\"#toc\" class=\"btn btn-primary btn-sm\" role=\"button\" aria-pressed=\"true\" \n",
    "style=\"color:blue; background-color:#dfa8e4\" data-toggle=\"popover\">Content</a>\n",
    "\n",
    "Create an array of the given shape and populate it with\n",
    "random samples from a uniform distribution\n",
    "over ``[0, 1)``.\n",
    "\n",
    "- ``(0, 5)`` = 1, 2, 3, 4\n",
    "- ``(0, 5]`` = 1, 2, 3, 4, 5\n",
    "- ``[0, 5)`` = 0, 1, 2, 3, 4\n",
    "- ``[0, 5]`` = 0, 1, 2, 3, 4, 5"
   ]
  },
  {
   "cell_type": "code",
   "execution_count": 27,
   "metadata": {},
   "outputs": [
    {
     "data": {
      "text/plain": [
       "array([0.00439192, 0.9195187 ])"
      ]
     },
     "execution_count": 27,
     "metadata": {},
     "output_type": "execute_result"
    }
   ],
   "source": [
    "np.random.rand(2)"
   ]
  },
  {
   "cell_type": "code",
   "execution_count": 28,
   "metadata": {},
   "outputs": [
    {
     "data": {
      "text/plain": [
       "array([[0.88395645, 0.06817843, 0.13724187, 0.84860081, 0.60361645],\n",
       "       [0.04950766, 0.86893994, 0.3989666 , 0.97795533, 0.50795824],\n",
       "       [0.65857548, 0.71329248, 0.95296448, 0.50544592, 0.13892894],\n",
       "       [0.02136021, 0.50443139, 0.92005506, 0.32652163, 0.35230968],\n",
       "       [0.59111544, 0.87501676, 0.42069243, 0.80842003, 0.7411869 ]])"
      ]
     },
     "execution_count": 28,
     "metadata": {},
     "output_type": "execute_result"
    }
   ],
   "source": [
    "np.random.rand(5,5)"
   ]
  },
  {
   "cell_type": "code",
   "execution_count": 34,
   "metadata": {},
   "outputs": [
    {
     "data": {
      "image/png": "[encoded data removed]",
      "text/plain": [
       "<Figure size 432x288 with 1 Axes>"
      ]
     },
     "metadata": {
      "needs_background": "light"
     },
     "output_type": "display_data"
    }
   ],
   "source": [
    "plt.hist(np.random.rand(55555), bins= 40)\n",
    "plt.show();"
   ]
  },
  {
   "cell_type": "markdown",
   "metadata": {
    "id": "r4jB_Nu6rbsU"
   },
   "source": [
    "### <p style=\"background-color:#9d4f8c; font-family:newtimeroman; color:#FFF9ED; font-size:150%; text-align:LEFT; border-radius:10px 10px;\">\"randn\"</p>\n",
    "\n",
    "<a id=\"4.5.2\"></a>\n",
    "<a href=\"#toc\" class=\"btn btn-primary btn-sm\" role=\"button\" aria-pressed=\"true\" \n",
    "style=\"color:blue; background-color:#dfa8e4\" data-toggle=\"popover\">Content</a>\n",
    "\n",
    "Return a sample (or samples) from the \"standard normal\" distribution. Unlike rand which is uniform:"
   ]
  },
  {
   "cell_type": "code",
   "execution_count": 35,
   "metadata": {},
   "outputs": [
    {
     "data": {
      "text/plain": [
       "array([1.13866679, 0.27900669])"
      ]
     },
     "execution_count": 35,
     "metadata": {},
     "output_type": "execute_result"
    }
   ],
   "source": [
    "np.random.randn(2)"
   ]
  },
  {
   "cell_type": "code",
   "execution_count": 36,
   "metadata": {},
   "outputs": [
    {
     "data": {
      "text/plain": [
       "array([[-0.24164339,  0.33050513, -0.51840554,  0.67138336,  0.63865981],\n",
       "       [-0.07229334, -0.02565009, -0.8634632 , -0.92546082, -0.12559188],\n",
       "       [-2.03032072,  0.28672874,  1.5948231 , -1.00196971, -1.69330399],\n",
       "       [-1.08061323,  0.01520456, -0.25502877,  0.5112665 , -0.99324515],\n",
       "       [ 1.28443517, -1.22967532,  1.15736632, -0.23255406,  0.76764914]])"
      ]
     },
     "execution_count": 36,
     "metadata": {},
     "output_type": "execute_result"
    }
   ],
   "source": [
    "np.random.randn(5,5)"
   ]
  },
  {
   "cell_type": "code",
   "execution_count": 38,
   "metadata": {},
   "outputs": [
    {
     "data": {
      "image/png": "[encoded data removed]",
      "text/plain": [
       "<Figure size 432x288 with 1 Axes>"
      ]
     },
     "metadata": {
      "needs_background": "light"
     },
     "output_type": "display_data"
    }
   ],
   "source": [
    "plt.hist(np.random.randn(555555), bins=55)\n",
    "plt.show()"
   ]
  },
  {
   "cell_type": "code",
   "execution_count": 40,
   "metadata": {},
   "outputs": [
    {
     "data": {
      "text/plain": [
       "-0.0010641844936725546"
      ]
     },
     "execution_count": 40,
     "metadata": {},
     "output_type": "execute_result"
    }
   ],
   "source": [
    "np.random.randn(555555).mean()"
   ]
  },
  {
   "cell_type": "code",
   "execution_count": 41,
   "metadata": {},
   "outputs": [
    {
     "data": {
      "text/plain": [
       "0.9985149465490719"
      ]
     },
     "execution_count": 41,
     "metadata": {},
     "output_type": "execute_result"
    }
   ],
   "source": [
    "np.random.randn(555555).std()"
   ]
  },
  {
   "cell_type": "markdown",
   "metadata": {
    "id": "bzjJJSUUrbsV"
   },
   "source": [
    "### <p style=\"background-color:#9d4f8c; font-family:newtimeroman; color:#FFF9ED; font-size:150%; text-align:LEFT; border-radius:10px 10px;\">\"randint\"</p>\n",
    "\n",
    "<a id=\"4.5.3\"></a>\n",
    "<a href=\"#toc\" class=\"btn btn-primary btn-sm\" role=\"button\" aria-pressed=\"true\" \n",
    "style=\"color:blue; background-color:#dfa8e4\" data-toggle=\"popover\">Content</a>\n",
    "\n",
    "Return random integers from `low` (inclusive) to `high` (exclusive).\n",
    "\n",
    "randint(low, high=None, size=None, dtype=int)"
   ]
  },
  {
   "cell_type": "code",
   "execution_count": 44,
   "metadata": {},
   "outputs": [
    {
     "data": {
      "text/plain": [
       "5"
      ]
     },
     "execution_count": 44,
     "metadata": {},
     "output_type": "execute_result"
    }
   ],
   "source": [
    "np.random.randint(10) #tek ürettiğinde sayı(int), birden fazla ürettiğinde array oluyor."
   ]
  },
  {
   "cell_type": "code",
   "execution_count": 45,
   "metadata": {},
   "outputs": [
    {
     "data": {
      "text/plain": [
       "19"
      ]
     },
     "execution_count": 45,
     "metadata": {},
     "output_type": "execute_result"
    }
   ],
   "source": [
    "np.random.randint(0,100)"
   ]
  },
  {
   "cell_type": "code",
   "execution_count": 46,
   "metadata": {},
   "outputs": [
    {
     "data": {
      "text/plain": [
       "array([27, 43, 51, 59, 63, 93, 82, 62, 52, 11])"
      ]
     },
     "execution_count": 46,
     "metadata": {},
     "output_type": "execute_result"
    }
   ],
   "source": [
    "np.random.randint(0, 100, 10)"
   ]
  },
  {
   "cell_type": "code",
   "execution_count": 48,
   "metadata": {},
   "outputs": [
    {
     "data": {
      "text/plain": [
       "array([89, 99, 26, 57, 30, 12, 92, 79, 29, 13])"
      ]
     },
     "execution_count": 48,
     "metadata": {},
     "output_type": "execute_result"
    }
   ],
   "source": [
    "np.random.randint(100, size = 10)"
   ]
  },
  {
   "cell_type": "code",
   "execution_count": 50,
   "metadata": {},
   "outputs": [
    {
     "data": {
      "text/plain": [
       "array([[ 6, 98, 43, 15, 83],\n",
       "       [ 7,  4,  4, 86, 97],\n",
       "       [42, 62, 21, 76, 38],\n",
       "       [32,  0,  9, 39, 11],\n",
       "       [60, 10, 13, 70, 76]])"
      ]
     },
     "execution_count": 50,
     "metadata": {},
     "output_type": "execute_result"
    }
   ],
   "source": [
    "np.random.randint(100, size = (5, 5))"
   ]
  },
  {
   "cell_type": "code",
   "execution_count": 51,
   "metadata": {},
   "outputs": [
    {
     "data": {
      "text/plain": [
       "array([ 1, 15, 86])"
      ]
     },
     "execution_count": 51,
     "metadata": {},
     "output_type": "execute_result"
    }
   ],
   "source": [
    "np.random.randint(1, [3,50,100])"
   ]
  },
  {
   "cell_type": "code",
   "execution_count": 52,
   "metadata": {},
   "outputs": [
    {
     "data": {
      "text/plain": [
       "array([[ 1, 18, 56],\n",
       "       [ 1, 21, 78],\n",
       "       [ 2, 16,  8],\n",
       "       [ 2, 34, 61],\n",
       "       [ 1, 37, 15]])"
      ]
     },
     "execution_count": 52,
     "metadata": {},
     "output_type": "execute_result"
    }
   ],
   "source": [
    "np.random.randint(1, [3,50,100], size=(5,3))"
   ]
  },
  {
   "cell_type": "markdown",
   "metadata": {
    "id": "IWAkJIjIrbsX"
   },
   "source": [
    "## <p style=\"background-color:#9d4f8c; font-family:newtimeroman; color:#FFF9ED; font-size:150%; text-align:center; border-radius:10px 10px;\">ARRAY ATTRIBUTES & METHODS</p>\n",
    "\n",
    "<a id=\"5\"></a>\n",
    "<a href=\"#toc\" class=\"btn btn-primary btn-sm\" role=\"button\" aria-pressed=\"true\" \n",
    "style=\"color:blue; background-color:#dfa8e4\" data-toggle=\"popover\">Content</a>\n",
    "\n",
    "Let's discuss some useful attributes and methods or an array:"
   ]
  },
  {
   "cell_type": "code",
   "execution_count": 53,
   "metadata": {},
   "outputs": [
    {
     "data": {
      "text/plain": [
       "array([ 0,  1,  2,  3,  4,  5,  6,  7,  8,  9, 10, 11, 12, 13, 14, 15, 16,\n",
       "       17, 18, 19, 20, 21, 22, 23, 24, 25, 26, 27, 28, 29, 30, 31, 32, 33,\n",
       "       34, 35])"
      ]
     },
     "execution_count": 53,
     "metadata": {},
     "output_type": "execute_result"
    }
   ],
   "source": [
    "arr = np.arange(36)\n",
    "arr"
   ]
  },
  {
   "cell_type": "code",
   "execution_count": 55,
   "metadata": {},
   "outputs": [
    {
     "data": {
      "text/plain": [
       "array([ 5, 45,  3, 49, 13, 34, 28, 10, 43, 12])"
      ]
     },
     "execution_count": 55,
     "metadata": {},
     "output_type": "execute_result"
    }
   ],
   "source": [
    "rand_arr = np.random.randint(0,50,10)\n",
    "rand_arr"
   ]
  },
  {
   "cell_type": "markdown",
   "metadata": {
    "id": "d-bM5gamrbsX"
   },
   "source": [
    "### <p style=\"background-color:#9d4f8c; font-family:newtimeroman; color:#FFF9ED; font-size:150%; text-align:LEFT; border-radius:10px 10px;\">\"reshape\"</p>\n",
    "\n",
    "<a id=\"5.1\"></a>\n",
    "<a href=\"#toc\" class=\"btn btn-primary btn-sm\" role=\"button\" aria-pressed=\"true\" \n",
    "style=\"color:blue; background-color:#dfa8e4\" data-toggle=\"popover\">Content</a>\n",
    "\n",
    "Returns an array containing the same data with a new shape."
   ]
  },
  {
   "cell_type": "code",
   "execution_count": 56,
   "metadata": {},
   "outputs": [
    {
     "data": {
      "text/plain": [
       "(36,)"
      ]
     },
     "execution_count": 56,
     "metadata": {},
     "output_type": "execute_result"
    }
   ],
   "source": [
    "arr.shape"
   ]
  },
  {
   "cell_type": "code",
   "execution_count": 57,
   "metadata": {},
   "outputs": [
    {
     "data": {
      "text/plain": [
       "array([[ 0,  1,  2,  3,  4,  5,  6,  7,  8,  9, 10, 11, 12, 13, 14, 15,\n",
       "        16, 17, 18, 19, 20, 21, 22, 23, 24, 25, 26, 27, 28, 29, 30, 31,\n",
       "        32, 33, 34, 35]])"
      ]
     },
     "execution_count": 57,
     "metadata": {},
     "output_type": "execute_result"
    }
   ],
   "source": [
    "arr.reshape(1,36)  #doğru gösterim, boyut artırmak için"
   ]
  },
  {
   "cell_type": "code",
   "execution_count": 58,
   "metadata": {},
   "outputs": [
    {
     "data": {
      "text/plain": [
       "array([[ 0],\n",
       "       [ 1],\n",
       "       [ 2],\n",
       "       [ 3],\n",
       "       [ 4],\n",
       "       [ 5],\n",
       "       [ 6],\n",
       "       [ 7],\n",
       "       [ 8],\n",
       "       [ 9],\n",
       "       [10],\n",
       "       [11],\n",
       "       [12],\n",
       "       [13],\n",
       "       [14],\n",
       "       [15],\n",
       "       [16],\n",
       "       [17],\n",
       "       [18],\n",
       "       [19],\n",
       "       [20],\n",
       "       [21],\n",
       "       [22],\n",
       "       [23],\n",
       "       [24],\n",
       "       [25],\n",
       "       [26],\n",
       "       [27],\n",
       "       [28],\n",
       "       [29],\n",
       "       [30],\n",
       "       [31],\n",
       "       [32],\n",
       "       [33],\n",
       "       [34],\n",
       "       [35]])"
      ]
     },
     "execution_count": 58,
     "metadata": {},
     "output_type": "execute_result"
    }
   ],
   "source": [
    "arr.reshape(36, 1)"
   ]
  },
  {
   "cell_type": "code",
   "execution_count": 59,
   "metadata": {},
   "outputs": [
    {
     "data": {
      "text/plain": [
       "array([[ 0,  1,  2,  3,  4,  5,  6,  7,  8],\n",
       "       [ 9, 10, 11, 12, 13, 14, 15, 16, 17],\n",
       "       [18, 19, 20, 21, 22, 23, 24, 25, 26],\n",
       "       [27, 28, 29, 30, 31, 32, 33, 34, 35]])"
      ]
     },
     "execution_count": 59,
     "metadata": {},
     "output_type": "execute_result"
    }
   ],
   "source": [
    "arr.reshape(4,9)  #size sayısı önemli."
   ]
  },
  {
   "cell_type": "code",
   "execution_count": 60,
   "metadata": {},
   "outputs": [
    {
     "data": {
      "text/plain": [
       "array([[[ 0,  1,  2,  3,  4,  5,  6,  7,  8],\n",
       "        [ 9, 10, 11, 12, 13, 14, 15, 16, 17],\n",
       "        [18, 19, 20, 21, 22, 23, 24, 25, 26],\n",
       "        [27, 28, 29, 30, 31, 32, 33, 34, 35]]])"
      ]
     },
     "execution_count": 60,
     "metadata": {},
     "output_type": "execute_result"
    }
   ],
   "source": [
    "arr.reshape(1,4,9)  #boyut arttı.(köşeli parantez boyut sayısı)"
   ]
  },
  {
   "cell_type": "code",
   "execution_count": 61,
   "metadata": {},
   "outputs": [
    {
     "data": {
      "text/plain": [
       "array([[ 0,  1,  2,  3,  4,  5,  6,  7,  8],\n",
       "       [ 9, 10, 11, 12, 13, 14, 15, 16, 17],\n",
       "       [18, 19, 20, 21, 22, 23, 24, 25, 26],\n",
       "       [27, 28, 29, 30, 31, 32, 33, 34, 35]])"
      ]
     },
     "execution_count": 61,
     "metadata": {},
     "output_type": "execute_result"
    }
   ],
   "source": [
    "arr.reshape(-1,9) #satır sayısı önemliyse"
   ]
  },
  {
   "cell_type": "code",
   "execution_count": 62,
   "metadata": {},
   "outputs": [
    {
     "data": {
      "text/plain": [
       "array([[ 0,  1,  2,  3],\n",
       "       [ 4,  5,  6,  7],\n",
       "       [ 8,  9, 10, 11],\n",
       "       [12, 13, 14, 15],\n",
       "       [16, 17, 18, 19],\n",
       "       [20, 21, 22, 23],\n",
       "       [24, 25, 26, 27],\n",
       "       [28, 29, 30, 31],\n",
       "       [32, 33, 34, 35]])"
      ]
     },
     "execution_count": 62,
     "metadata": {},
     "output_type": "execute_result"
    }
   ],
   "source": [
    "arr.reshape(9,-1) #sütun sayısı önemliyse"
   ]
  },
  {
   "cell_type": "markdown",
   "metadata": {
    "id": "n3__xPOerbsX"
   },
   "source": [
    "### <p style=\"background-color:#9d4f8c; font-family:newtimeroman; color:#FFF9ED; font-size:150%; text-align:LEFT; border-radius:10px 10px;\">\"max\", \"min\", \"argmax\" & \"argmin\"</p>\n",
    "\n",
    "<a id=\"5.2\"></a>\n",
    "<a href=\"#toc\" class=\"btn btn-primary btn-sm\" role=\"button\" aria-pressed=\"true\" \n",
    "style=\"color:blue; background-color:#dfa8e4\" data-toggle=\"popover\">Content</a>\n",
    "\n",
    "These are useful methods for finding max or min values. Or to find their index locations using argmin or argmax"
   ]
  },
  {
   "cell_type": "code",
   "execution_count": 63,
   "metadata": {},
   "outputs": [
    {
     "data": {
      "text/plain": [
       "array([ 5, 45,  3, 49, 13, 34, 28, 10, 43, 12])"
      ]
     },
     "execution_count": 63,
     "metadata": {},
     "output_type": "execute_result"
    }
   ],
   "source": [
    "rand_arr"
   ]
  },
  {
   "cell_type": "code",
   "execution_count": 64,
   "metadata": {},
   "outputs": [
    {
     "data": {
      "text/plain": [
       "49"
      ]
     },
     "execution_count": 64,
     "metadata": {},
     "output_type": "execute_result"
    }
   ],
   "source": [
    "rand_arr.max()"
   ]
  },
  {
   "cell_type": "code",
   "execution_count": 65,
   "metadata": {},
   "outputs": [
    {
     "data": {
      "text/plain": [
       "3"
      ]
     },
     "execution_count": 65,
     "metadata": {},
     "output_type": "execute_result"
    }
   ],
   "source": [
    "rand_arr.argmax() #en yüksek sayının index numarasını verir\n"
   ]
  },
  {
   "cell_type": "code",
   "execution_count": 66,
   "metadata": {},
   "outputs": [
    {
     "data": {
      "text/plain": [
       "3"
      ]
     },
     "execution_count": 66,
     "metadata": {},
     "output_type": "execute_result"
    }
   ],
   "source": [
    "rand_arr.min()"
   ]
  },
  {
   "cell_type": "code",
   "execution_count": 67,
   "metadata": {},
   "outputs": [
    {
     "data": {
      "text/plain": [
       "2"
      ]
     },
     "execution_count": 67,
     "metadata": {},
     "output_type": "execute_result"
    }
   ],
   "source": [
    "rand_arr.argmin()"
   ]
  },
  {
   "cell_type": "code",
   "execution_count": 22,
   "metadata": {},
   "outputs": [
    {
     "ename": "NameError",
     "evalue": "name 'rand_arr' is not defined",
     "output_type": "error",
     "traceback": [
      "\u001b[1;31m---------------------------------------------------------------------------\u001b[0m",
      "\u001b[1;31mNameError\u001b[0m                                 Traceback (most recent call last)",
      "\u001b[1;32mc:\\Users\\federal\\Desktop\\Clarusway\\DAwPy_S1_(Numpy_Arrays)-student.ipynb Cell 90'\u001b[0m in \u001b[0;36m<module>\u001b[1;34m\u001b[0m\n\u001b[1;32m----> <a href='vscode-notebook-cell:/c%3A/Users/federal/Desktop/Clarusway/DAwPy_S1_%28Numpy_Arrays%29-student.ipynb#ch0000094?line=0'>1</a>\u001b[0m random_arr_new \u001b[39m=\u001b[39m rand_arr\u001b[39m.\u001b[39mreshape(\u001b[39m2\u001b[39m ,\u001b[39m5\u001b[39m)\n\u001b[0;32m      <a href='vscode-notebook-cell:/c%3A/Users/federal/Desktop/Clarusway/DAwPy_S1_%28Numpy_Arrays%29-student.ipynb#ch0000094?line=1'>2</a>\u001b[0m random_arr_new\n",
      "\u001b[1;31mNameError\u001b[0m: name 'rand_arr' is not defined"
     ]
    }
   ],
   "source": [
    "random_arr_new = rand_arr.reshape(2 ,5)\n",
    "random_arr_new"
   ]
  },
  {
   "cell_type": "code",
   "execution_count": 71,
   "metadata": {},
   "outputs": [
    {
     "data": {
      "text/plain": [
       "2"
      ]
     },
     "execution_count": 71,
     "metadata": {},
     "output_type": "execute_result"
    }
   ],
   "source": [
    "random_arr_new.argmin()"
   ]
  },
  {
   "cell_type": "markdown",
   "metadata": {
    "id": "E0V0dnE6rbsY"
   },
   "source": [
    "## <p style=\"background-color:#9d4f8c; font-family:newtimeroman; color:#FFF9ED; font-size:150%; text-align:center; border-radius:10px 10px;\">SOME OTHER ATTRIBUTES</p>\n",
    "\n",
    "<a id=\"6\"></a>\n",
    "<a href=\"#toc\" class=\"btn btn-primary btn-sm\" role=\"button\" aria-pressed=\"true\" \n",
    "style=\"color:blue; background-color:#dfa8e4\" data-toggle=\"popover\">Content</a>\n",
    "\n",
    "* ``shape``: tuple of array dimensions.\n",
    "* ``size``: Number of elements in the array.\n",
    "* ``ndim``: number of array dimensions.\n",
    "* ``itemsize``: the size in bytes of each element of the array.\n",
    "* ``dtype``: data types of the array.\n",
    "\n"
   ]
  },
  {
   "cell_type": "markdown",
   "metadata": {
    "id": "0FKsUXE6rbsY"
   },
   "source": [
    "### <p style=\"background-color:#9d4f8c; font-family:newtimeroman; color:#FFF9ED; font-size:150%; text-align:LEFT; border-radius:10px 10px;\">\"shape\"</p>\n",
    "\n",
    "<a id=\"6.1\"></a>\n",
    "<a href=\"#toc\" class=\"btn btn-primary btn-sm\" role=\"button\" aria-pressed=\"true\" \n",
    "style=\"color:blue; background-color:#dfa8e4\" data-toggle=\"popover\">Content</a>\n",
    "\n",
    "Shape is an attribute that arrays have (not a method):"
   ]
  },
  {
   "cell_type": "code",
   "execution_count": 72,
   "metadata": {},
   "outputs": [
    {
     "data": {
      "text/plain": [
       "(2, 5)"
      ]
     },
     "execution_count": 72,
     "metadata": {},
     "output_type": "execute_result"
    }
   ],
   "source": [
    "random_arr_new.shape"
   ]
  },
  {
   "cell_type": "markdown",
   "metadata": {
    "id": "wGIwWxbXrbsZ"
   },
   "source": [
    "### <p style=\"background-color:#9d4f8c; font-family:newtimeroman; color:#FFF9ED; font-size:150%; text-align:LEFT; border-radius:10px 10px;\">\"dtype\"</p>\n",
    "\n",
    "<a id=\"6.2\"></a>\n",
    "<a href=\"#toc\" class=\"btn btn-primary btn-sm\" role=\"button\" aria-pressed=\"true\" \n",
    "style=\"color:blue; background-color:#dfa8e4\" data-toggle=\"popover\">Content</a>\n",
    "\n",
    "You can also grab the data type of the object in the array:"
   ]
  },
  {
   "cell_type": "code",
   "execution_count": 73,
   "metadata": {},
   "outputs": [
    {
     "data": {
      "text/plain": [
       "array([ 0,  1,  2,  3,  4,  5,  6,  7,  8,  9, 10, 11, 12, 13, 14, 15, 16,\n",
       "       17, 18, 19, 20, 21, 22, 23, 24, 25, 26, 27, 28, 29, 30, 31, 32, 33,\n",
       "       34, 35])"
      ]
     },
     "execution_count": 73,
     "metadata": {},
     "output_type": "execute_result"
    }
   ],
   "source": [
    "arr"
   ]
  },
  {
   "cell_type": "code",
   "execution_count": 74,
   "metadata": {},
   "outputs": [
    {
     "data": {
      "text/plain": [
       "dtype('int32')"
      ]
     },
     "execution_count": 74,
     "metadata": {},
     "output_type": "execute_result"
    }
   ],
   "source": [
    "arr.dtype"
   ]
  },
  {
   "cell_type": "code",
   "execution_count": 75,
   "metadata": {},
   "outputs": [
    {
     "data": {
      "text/plain": [
       "numpy.ndarray"
      ]
     },
     "execution_count": 75,
     "metadata": {},
     "output_type": "execute_result"
    }
   ],
   "source": [
    "type(arr)"
   ]
  },
  {
   "cell_type": "code",
   "execution_count": 76,
   "metadata": {},
   "outputs": [
    {
     "data": {
      "text/plain": [
       "numpy.int32"
      ]
     },
     "execution_count": 76,
     "metadata": {},
     "output_type": "execute_result"
    }
   ],
   "source": [
    "type(arr[5])"
   ]
  },
  {
   "cell_type": "markdown",
   "metadata": {
    "id": "ORMfJwvxrbsa"
   },
   "source": [
    "### <p style=\"background-color:#9d4f8c; font-family:newtimeroman; color:#FFF9ED; font-size:150%; text-align:LEFT; border-radius:10px 10px;\">\"ndim\"</p>\n",
    "\n",
    "<a id=\"6.3\"></a>\n",
    "<a href=\"#toc\" class=\"btn btn-primary btn-sm\" role=\"button\" aria-pressed=\"true\" \n",
    "style=\"color:blue; background-color:#dfa8e4\" data-toggle=\"popover\">Content</a>"
   ]
  },
  {
   "cell_type": "code",
   "execution_count": 77,
   "metadata": {},
   "outputs": [
    {
     "data": {
      "text/plain": [
       "array([ 0,  1,  2,  3,  4,  5,  6,  7,  8,  9, 10, 11, 12, 13, 14, 15, 16,\n",
       "       17, 18, 19, 20, 21, 22, 23, 24, 25, 26, 27, 28, 29, 30, 31, 32, 33,\n",
       "       34, 35])"
      ]
     },
     "execution_count": 77,
     "metadata": {},
     "output_type": "execute_result"
    }
   ],
   "source": [
    "arr"
   ]
  },
  {
   "cell_type": "code",
   "execution_count": 78,
   "metadata": {},
   "outputs": [
    {
     "data": {
      "text/plain": [
       "1"
      ]
     },
     "execution_count": 78,
     "metadata": {},
     "output_type": "execute_result"
    }
   ],
   "source": [
    "arr.ndim"
   ]
  },
  {
   "cell_type": "code",
   "execution_count": 79,
   "metadata": {},
   "outputs": [
    {
     "data": {
      "text/plain": [
       "(36,)"
      ]
     },
     "execution_count": 79,
     "metadata": {},
     "output_type": "execute_result"
    }
   ],
   "source": [
    "arr.shape"
   ]
  },
  {
   "cell_type": "code",
   "execution_count": 80,
   "metadata": {},
   "outputs": [
    {
     "data": {
      "text/plain": [
       "2"
      ]
     },
     "execution_count": 80,
     "metadata": {},
     "output_type": "execute_result"
    }
   ],
   "source": [
    "random_arr_new.ndim  #boyutuna bakıyoruz"
   ]
  },
  {
   "cell_type": "code",
   "execution_count": 81,
   "metadata": {},
   "outputs": [
    {
     "data": {
      "text/plain": [
       "(2, 5)"
      ]
     },
     "execution_count": 81,
     "metadata": {},
     "output_type": "execute_result"
    }
   ],
   "source": [
    "random_arr_new.shape"
   ]
  },
  {
   "cell_type": "markdown",
   "metadata": {
    "id": "Mb7I9KJcrbsb"
   },
   "source": [
    "### <p style=\"background-color:#9d4f8c; font-family:newtimeroman; color:#FFF9ED; font-size:150%; text-align:LEFT; border-radius:10px 10px;\">\"size\"</p>\n",
    "\n",
    "<a id=\"6.4\"></a>\n",
    "<a href=\"#toc\" class=\"btn btn-primary btn-sm\" role=\"button\" aria-pressed=\"true\" \n",
    "style=\"color:blue; background-color:#dfa8e4\" data-toggle=\"popover\">Content</a>"
   ]
  },
  {
   "cell_type": "code",
   "execution_count": 82,
   "metadata": {},
   "outputs": [
    {
     "data": {
      "text/plain": [
       "36"
      ]
     },
     "execution_count": 82,
     "metadata": {},
     "output_type": "execute_result"
    }
   ],
   "source": [
    "arr.size  # 36 tane eleman var demek "
   ]
  },
  {
   "cell_type": "code",
   "execution_count": 83,
   "metadata": {},
   "outputs": [
    {
     "data": {
      "text/plain": [
       "36"
      ]
     },
     "execution_count": 83,
     "metadata": {},
     "output_type": "execute_result"
    }
   ],
   "source": [
    "len(arr)"
   ]
  },
  {
   "cell_type": "code",
   "execution_count": 84,
   "metadata": {},
   "outputs": [
    {
     "data": {
      "text/plain": [
       "10"
      ]
     },
     "execution_count": 84,
     "metadata": {},
     "output_type": "execute_result"
    }
   ],
   "source": [
    "random_arr_new.size"
   ]
  },
  {
   "cell_type": "code",
   "execution_count": 85,
   "metadata": {},
   "outputs": [
    {
     "data": {
      "text/plain": [
       "2"
      ]
     },
     "execution_count": 85,
     "metadata": {},
     "output_type": "execute_result"
    }
   ],
   "source": [
    "len(random_arr_new) # tek boyutluda eleman sayısını , çok boyutluda boyut sayısını verir."
   ]
  },
  {
   "cell_type": "code",
   "execution_count": 86,
   "metadata": {},
   "outputs": [
    {
     "data": {
      "text/plain": [
       "4"
      ]
     },
     "execution_count": 86,
     "metadata": {},
     "output_type": "execute_result"
    }
   ],
   "source": [
    "arr.itemsize "
   ]
  },
  {
   "cell_type": "markdown",
   "metadata": {
    "id": "HvpIwTQFrbsk"
   },
   "source": [
    "## <p style=\"background-color:#FDFEFE; font-family:newtimeroman; color:#9d4f8c; font-size:150%; text-align:center; border-radius:10px 10px;\">The End of the NumPy Session-01 (Part-01)</p>\n",
    "\n",
    "<a id=\"7\"></a>\n",
    "<a href=\"#toc\" class=\"btn btn-primary btn-sm\" role=\"button\" aria-pressed=\"true\" \n",
    "style=\"color:blue; background-color:#dfa8e4\" data-toggle=\"popover\">Content</a>"
   ]
  },
  {
   "cell_type": "markdown",
   "metadata": {
    "id": "2VHWqrqArbsk"
   },
   "source": [
    "<p style=\"text-align: center;\"><img src=\"https://docs.google.com/uc?id=1lY0Uj5R04yMY3-ZppPWxqCr5pvBLYPnV\" class=\"img-fluid\" \n",
    "alt=\"CLRSWY\"></p>\n",
    "\n",
    "## <p style=\"background-color:#FDFEFE; font-family:newtimeroman; color:#9d4f8c; font-size:100%; text-align:center; border-radius:10px 10px;\">WAY TO REINVENT YOURSELF</p>\n",
    "___"
   ]
  }
 ],
 "metadata": {
  "colab": {
   "name": "DAwPy-S1 (Numpy Arrays) .ipynb",
   "provenance": []
  },
  "kernelspec": {
   "display_name": "Python 3",
   "language": "python",
   "name": "python3"
  },
  "language_info": {
   "codemirror_mode": {
    "name": "ipython",
    "version": 3
   },
   "file_extension": ".py",
   "mimetype": "text/x-python",
   "name": "python",
   "nbconvert_exporter": "python",
   "pygments_lexer": "ipython3",
   "version": "3.10.2"
  },
  "toc": {
   "base_numbering": 1,
   "nav_menu": {},
   "number_sections": false,
   "sideBar": true,
   "skip_h1_title": false,
   "title_cell": "Table of Contents",
   "title_sidebar": "Contents",
   "toc_cell": false,
   "toc_position": {
    "height": "calc(100% - 180px)",
    "left": "10px",
    "top": "150px",
    "width": "239.091px"
   },
   "toc_section_display": true,
   "toc_window_display": true
  }
 },
 "nbformat": 4,
 "nbformat_minor": 1
}
